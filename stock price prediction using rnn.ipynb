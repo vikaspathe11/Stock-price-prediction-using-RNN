{
 "cells": [
  {
   "cell_type": "code",
   "execution_count": 1,
   "metadata": {},
   "outputs": [],
   "source": [
    "#importing libraries and preprocessing\n",
    "import numpy as np\n",
    "import matplotlib.pyplot as plt\n",
    "import pandas as pd"
   ]
  },
  {
   "cell_type": "code",
   "execution_count": 2,
   "metadata": {},
   "outputs": [],
   "source": [
    "#importing training set\n",
    "dataset_train = pd.read_csv('C:/Users/CDR Lab/Downloads/Google_Stock_Price_Train.csv')\n",
    "training_set = dataset_train.iloc[:, 1:2].values"
   ]
  },
  {
   "cell_type": "code",
   "execution_count": 3,
   "metadata": {},
   "outputs": [],
   "source": [
    "#feature scaling\n",
    "from sklearn.preprocessing import MinMaxScaler\n",
    "sc = MinMaxScaler(feature_range = (0, 1))\n",
    "training_set_scaled = sc.fit_transform(training_set)"
   ]
  },
  {
   "cell_type": "code",
   "execution_count": 4,
   "metadata": {},
   "outputs": [],
   "source": [
    "#creating data structure with 60 timesteps \n",
    "X_train = []\n",
    "y_train = []\n",
    "for i in range(60, 1258):\n",
    "    X_train.append(training_set_scaled[i-60:i, 0])\n",
    "    y_train.append(training_set_scaled[i, 0])\n",
    "X_train, y_train = np.array(X_train), np.array(y_train)"
   ]
  },
  {
   "cell_type": "code",
   "execution_count": 5,
   "metadata": {},
   "outputs": [],
   "source": [
    "#reshaping\n",
    "X_train = np.reshape(X_train, (X_train.shape[0], X_train.shape[1], 1))"
   ]
  },
  {
   "cell_type": "code",
   "execution_count": 6,
   "metadata": {},
   "outputs": [],
   "source": [
    "#import libraries for model buliding\n",
    "from keras.models import Sequential\n",
    "from keras.layers import Dense\n",
    "from keras.layers import LSTM\n",
    "from keras.layers import Dropout"
   ]
  },
  {
   "cell_type": "code",
   "execution_count": 7,
   "metadata": {},
   "outputs": [],
   "source": [
    "#initialize rnn\n",
    "regressor = Sequential()"
   ]
  },
  {
   "cell_type": "code",
   "execution_count": 8,
   "metadata": {},
   "outputs": [],
   "source": [
    "#Adding the first LSTM layer and some Dropout regularisation\n",
    "regressor.add(LSTM(units = 50, return_sequences = True, input_shape = (X_train.shape[1], 1)))\n",
    "regressor.add(Dropout(0.2))"
   ]
  },
  {
   "cell_type": "code",
   "execution_count": 9,
   "metadata": {},
   "outputs": [],
   "source": [
    "#Adding a second LSTM layer and some Dropout regularisation\n",
    "regressor.add(LSTM(units = 50, return_sequences = True))\n",
    "regressor.add(Dropout(0.2))"
   ]
  },
  {
   "cell_type": "code",
   "execution_count": 10,
   "metadata": {},
   "outputs": [],
   "source": [
    "#Adding a third LSTM layer and some Dropout regularisation\n",
    "regressor.add(LSTM(units = 50, return_sequences = True))\n",
    "regressor.add(Dropout(0.2))"
   ]
  },
  {
   "cell_type": "code",
   "execution_count": 11,
   "metadata": {},
   "outputs": [],
   "source": [
    "#Adding a fourth LSTM layer and some Dropout regularisation\n",
    "regressor.add(LSTM(units = 50))\n",
    "regressor.add(Dropout(0.2))"
   ]
  },
  {
   "cell_type": "code",
   "execution_count": 12,
   "metadata": {},
   "outputs": [],
   "source": [
    "#adding output layer\n",
    "regressor.add(Dense(units = 1))"
   ]
  },
  {
   "cell_type": "code",
   "execution_count": 13,
   "metadata": {},
   "outputs": [],
   "source": [
    "#compiling cnn\n",
    "regressor.compile(optimizer = 'adam', loss = 'mean_squared_error')"
   ]
  },
  {
   "cell_type": "code",
   "execution_count": 14,
   "metadata": {},
   "outputs": [
    {
     "name": "stdout",
     "output_type": "stream",
     "text": [
      "Epoch 1/50\n",
      "38/38 [==============================] - 4s 110ms/step - loss: 0.0446\n",
      "Epoch 2/50\n",
      "38/38 [==============================] - 4s 104ms/step - loss: 0.0072\n",
      "Epoch 3/50\n",
      "38/38 [==============================] - 4s 103ms/step - loss: 0.0053\n",
      "Epoch 4/50\n",
      "38/38 [==============================] - 4s 105ms/step - loss: 0.0052\n",
      "Epoch 5/50\n",
      "38/38 [==============================] - 4s 108ms/step - loss: 0.0055\n",
      "Epoch 6/50\n",
      "38/38 [==============================] - 4s 103ms/step - loss: 0.0056\n",
      "Epoch 7/50\n",
      "38/38 [==============================] - 4s 103ms/step - loss: 0.0051\n",
      "Epoch 8/50\n",
      "38/38 [==============================] - 4s 103ms/step - loss: 0.0046\n",
      "Epoch 9/50\n",
      "38/38 [==============================] - 4s 106ms/step - loss: 0.0046\n",
      "Epoch 10/50\n",
      "38/38 [==============================] - 4s 102ms/step - loss: 0.0045\n",
      "Epoch 11/50\n",
      "38/38 [==============================] - 4s 102ms/step - loss: 0.0044\n",
      "Epoch 12/50\n",
      "38/38 [==============================] - 4s 103ms/step - loss: 0.0038\n",
      "Epoch 13/50\n",
      "38/38 [==============================] - 4s 105ms/step - loss: 0.0045\n",
      "Epoch 14/50\n",
      "38/38 [==============================] - 4s 103ms/step - loss: 0.0038\n",
      "Epoch 15/50\n",
      "38/38 [==============================] - 4s 108ms/step - loss: 0.0034\n",
      "Epoch 16/50\n",
      "38/38 [==============================] - 4s 104ms/step - loss: 0.0044\n",
      "Epoch 17/50\n",
      "38/38 [==============================] - 4s 105ms/step - loss: 0.0036\n",
      "Epoch 18/50\n",
      "38/38 [==============================] - 4s 106ms/step - loss: 0.0037\n",
      "Epoch 19/50\n",
      "38/38 [==============================] - 4s 107ms/step - loss: 0.0042\n",
      "Epoch 20/50\n",
      "38/38 [==============================] - 4s 111ms/step - loss: 0.0040\n",
      "Epoch 21/50\n",
      "38/38 [==============================] - 4s 108ms/step - loss: 0.0033\n",
      "Epoch 22/50\n",
      "38/38 [==============================] - 4s 106ms/step - loss: 0.0031\n",
      "Epoch 23/50\n",
      "38/38 [==============================] - 4s 103ms/step - loss: 0.0033\n",
      "Epoch 24/50\n",
      "38/38 [==============================] - 4s 106ms/step - loss: 0.0032\n",
      "Epoch 25/50\n",
      "38/38 [==============================] - 4s 105ms/step - loss: 0.0035\n",
      "Epoch 26/50\n",
      "38/38 [==============================] - 4s 103ms/step - loss: 0.0033\n",
      "Epoch 27/50\n",
      "38/38 [==============================] - 4s 102ms/step - loss: 0.0032\n",
      "Epoch 28/50\n",
      "38/38 [==============================] - 4s 106ms/step - loss: 0.0030\n",
      "Epoch 29/50\n",
      "38/38 [==============================] - 4s 104ms/step - loss: 0.0033\n",
      "Epoch 30/50\n",
      "38/38 [==============================] - 4s 104ms/step - loss: 0.0030\n",
      "Epoch 31/50\n",
      "38/38 [==============================] - 4s 104ms/step - loss: 0.0028\n",
      "Epoch 32/50\n",
      "38/38 [==============================] - 4s 108ms/step - loss: 0.0036\n",
      "Epoch 33/50\n",
      "38/38 [==============================] - 4s 105ms/step - loss: 0.0033\n",
      "Epoch 34/50\n",
      "38/38 [==============================] - 4s 103ms/step - loss: 0.0029\n",
      "Epoch 35/50\n",
      "38/38 [==============================] - 4s 103ms/step - loss: 0.0031\n",
      "Epoch 36/50\n",
      "38/38 [==============================] - 4s 107ms/step - loss: 0.0030\n",
      "Epoch 37/50\n",
      "38/38 [==============================] - 4s 104ms/step - loss: 0.0029\n",
      "Epoch 38/50\n",
      "38/38 [==============================] - 4s 107ms/step - loss: 0.0026\n",
      "Epoch 39/50\n",
      "38/38 [==============================] - 4s 103ms/step - loss: 0.0026\n",
      "Epoch 40/50\n",
      "38/38 [==============================] - 5s 120ms/step - loss: 0.0026\n",
      "Epoch 41/50\n",
      "38/38 [==============================] - 4s 113ms/step - loss: 0.0026\n",
      "Epoch 42/50\n",
      "38/38 [==============================] - 4s 112ms/step - loss: 0.0023\n",
      "Epoch 43/50\n",
      "38/38 [==============================] - 5s 125ms/step - loss: 0.0027\n",
      "Epoch 44/50\n",
      "38/38 [==============================] - 4s 113ms/step - loss: 0.0026\n",
      "Epoch 45/50\n",
      "38/38 [==============================] - 4s 111ms/step - loss: 0.0026\n",
      "Epoch 46/50\n",
      "38/38 [==============================] - 5s 121ms/step - loss: 0.0026\n",
      "Epoch 47/50\n",
      "38/38 [==============================] - 4s 118ms/step - loss: 0.0027\n",
      "Epoch 48/50\n",
      "38/38 [==============================] - 4s 105ms/step - loss: 0.0025\n",
      "Epoch 49/50\n",
      "38/38 [==============================] - 4s 105ms/step - loss: 0.0024\n",
      "Epoch 50/50\n",
      "38/38 [==============================] - 4s 112ms/step - loss: 0.0021\n"
     ]
    },
    {
     "data": {
      "text/plain": [
       "<tensorflow.python.keras.callbacks.History at 0x21f5580d460>"
      ]
     },
     "execution_count": 14,
     "metadata": {},
     "output_type": "execute_result"
    }
   ],
   "source": [
    "#fitting cnn\n",
    "regressor.fit(X_train, y_train, epochs = 50, batch_size = 32)"
   ]
  },
  {
   "cell_type": "code",
   "execution_count": 15,
   "metadata": {},
   "outputs": [],
   "source": [
    "#getting the real stock price\n",
    "dataset_test = pd.read_csv('C:/Users/CDR Lab/Downloads/Google_Stock_Price_Test.csv')\n",
    "real_stock_price = dataset_test.iloc[:, 1:2].values"
   ]
  },
  {
   "cell_type": "code",
   "execution_count": 16,
   "metadata": {},
   "outputs": [],
   "source": [
    "#getting predicted stockprice \n",
    "dataset_total = pd.concat((dataset_train['Open'], dataset_test['Open']), axis = 0)\n",
    "inputs = dataset_total[len(dataset_total) - len(dataset_test) - 60:].values\n",
    "inputs = inputs.reshape(-1,1)\n",
    "inputs = sc.transform(inputs)\n",
    "X_test = []\n",
    "for i in range(60, 80):\n",
    "    X_test.append(inputs[i-60:i, 0])\n",
    "X_test = np.array(X_test)\n",
    "X_test = np.reshape(X_test, (X_test.shape[0], X_test.shape[1], 1))\n",
    "predicted_stock_price = regressor.predict(X_test)\n",
    "predicted_stock_price = sc.inverse_transform(predicted_stock_price)"
   ]
  },
  {
   "cell_type": "code",
   "execution_count": 17,
   "metadata": {},
   "outputs": [
    {
     "data": {
      "image/png": "[encoded data removed]",
      "text/plain": [
       "<Figure size 432x288 with 1 Axes>"
      ]
     },
     "metadata": {
      "needs_background": "light"
     },
     "output_type": "display_data"
    }
   ],
   "source": [
    "#visualize the model result\n",
    "plt.plot(real_stock_price, color = 'red', label = 'Real Google Stock Price')\n",
    "plt.plot(predicted_stock_price, color = 'blue', label = 'Predicted Google Stock Price')\n",
    "plt.title('Google Stock Price Prediction')\n",
    "plt.xlabel('Time')\n",
    "plt.ylabel('Google Stock Price')\n",
    "plt.legend()\n",
    "plt.show()"
   ]
  },
  {
   "cell_type": "code",
   "execution_count": null,
   "metadata": {},
   "outputs": [],
   "source": []
  },
  {
   "cell_type": "code",
   "execution_count": null,
   "metadata": {},
   "outputs": [],
   "source": []
  }
 ],
 "metadata": {
  "kernelspec": {
   "display_name": "Python 3",
   "language": "python",
   "name": "python3"
  },
  "language_info": {
   "codemirror_mode": {
    "name": "ipython",
    "version": 3
   },
   "file_extension": ".py",
   "mimetype": "text/x-python",
   "name": "python",
   "nbconvert_exporter": "python",
   "pygments_lexer": "ipython3",
   "version": "3.8.8"
  }
 },
 "nbformat": 4,
 "nbformat_minor": 4
}
